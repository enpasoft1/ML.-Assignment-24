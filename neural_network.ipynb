{
 "cells": [
  {
   "cell_type": "code",
   "execution_count": 1,
   "metadata": {
    "id": "S-lftk28RSsi"
   },
   "outputs": [],
   "source": [
    "import numpy as np\n",
    "import matplotlib.pyplot as plt\n"
   ]
  },
  {
   "cell_type": "code",
   "execution_count": 2,
   "metadata": {
    "id": "BaodpmLnRj9j"
   },
   "outputs": [],
   "source": [
    "from sklearn.metrics import accuracy_score\n",
    "from sklearn.metrics import precision_score\n",
    "from sklearn.metrics import recall_score\n",
    "from sklearn.metrics import f1_score "
   ]
  },
  {
   "cell_type": "code",
   "execution_count": 3,
   "metadata": {
    "colab": {
     "base_uri": "https://localhost:8080/"
    },
    "id": "ExKkVVO3SkGa",
    "outputId": "8660a7f3-56d9-49c5-90b3-73fb8de672a2"
   },
   "outputs": [
    {
     "name": "stderr",
     "output_type": "stream",
     "text": [
      "\n",
      "KeyboardInterrupt\n",
      "\n"
     ]
    }
   ],
   "source": [
    "from keras.datasets import mnist\n",
    "(x_train,y_train),(x_test,y_test)=mnist.load_data()"
   ]
  },
  {
   "cell_type": "code",
   "execution_count": null,
   "metadata": {
    "colab": {
     "base_uri": "https://localhost:8080/"
    },
    "id": "PG2JXZkITO9y",
    "outputId": "02c4bec2-dd36-4dda-9fca-fef0c7cc3426"
   },
   "outputs": [],
   "source": [
    "print(x_train.shape\n",
    "      )\n",
    "print(x_test.shape)\n",
    "print(x_train[0].dtype)"
   ]
  },
  {
   "cell_type": "code",
   "execution_count": null,
   "metadata": {
    "colab": {
     "base_uri": "https://localhost:8080/"
    },
    "id": "S6j5JftyUjJ5",
    "outputId": "c3ecb266-aca6-4ebd-f70e-b57992cfa7d2"
   },
   "outputs": [],
   "source": [
    "x_train=x_train.reshape(-1,784)\n",
    "x_test=x_test.reshape(-1,784)\n",
    "print(x_train.shape)\n",
    "print(x_test.shape)"
   ]
  },
  {
   "cell_type": "code",
   "execution_count": null,
   "metadata": {
    "colab": {
     "base_uri": "https://localhost:8080/",
     "height": 281
    },
    "id": "k2BLEViaV3Qj",
    "outputId": "7caee95a-99e2-4f3e-cfd7-be11216b70b6"
   },
   "outputs": [],
   "source": [
    "import matplotlib.pyplot as plt\n",
    "%matplotlib inline\n",
    "index=0\n",
    "image=x_train[index].reshape(28,28)\n",
    "plt.imshow(image,'gray')\n",
    "plt.title('label :{}'.format(y_train[index]))\n",
    "plt.show()"
   ]
  },
  {
   "cell_type": "code",
   "execution_count": null,
   "metadata": {
    "colab": {
     "base_uri": "https://localhost:8080/"
    },
    "id": "-3rndlhdXZom",
    "outputId": "e6c158b1-039a-4df1-c7a5-786ceb8aaefc"
   },
   "outputs": [],
   "source": [
    "x_train=x_train.astype(np.float)\n",
    "x_test=x_test.astype(np.float)\n",
    "x_train/=255\n",
    "x_test/=255\n",
    "print(x_train.max())\n",
    "print(x_test.min())"
   ]
  },
  {
   "cell_type": "code",
   "execution_count": null,
   "metadata": {
    "colab": {
     "base_uri": "https://localhost:8080/"
    },
    "id": "md4V369AFfFW",
    "outputId": "3ae866af-1ae8-456c-9ad4-1251cc245f85"
   },
   "outputs": [
    {
     "name": "stdout",
     "output_type": "stream",
     "text": [
      "(48000, 784)\n",
      "(12000, 784)\n"
     ]
    }
   ],
   "source": [
    "from sklearn.model_selection import train_test_split\n",
    "\n",
    "x_train,x_val,y_train,y_val=train_test_split(x_train,y_train,test_size=0.2)\n",
    "print(x_train.shape)\n",
    "print(x_val.shape)"
   ]
  },
  {
   "cell_type": "code",
   "execution_count": null,
   "metadata": {
    "colab": {
     "base_uri": "https://localhost:8080/"
    },
    "id": "TJGI_rxgHUuX",
    "outputId": "946daf71-4469-4bea-8bbb-b81ae0df1200"
   },
   "outputs": [
    {
     "name": "stdout",
     "output_type": "stream",
     "text": [
      "(48000,)\n",
      "(48000, 10)\n",
      "float64\n"
     ]
    }
   ],
   "source": [
    "from sklearn.preprocessing import OneHotEncoder\n",
    "enc=OneHotEncoder(handle_unknown='ignore',sparse=False)\n",
    "y_train_one_hot =enc.fit_transform(y_train[:,np.newaxis])\n",
    "y_val_one_hot=enc.transform(y_val[:,np.newaxis])\n",
    "print(y_train.shape)\n",
    "print(y_train_one_hot.shape)\n",
    "print(y_train_one_hot.dtype)"
   ]
  },
  {
   "cell_type": "code",
   "execution_count": null,
   "metadata": {
    "id": "bOPAmPg2JOSy"
   },
   "outputs": [],
   "source": [
    "class GetMiniBatch:\n",
    "    \"\"\"\n",
    "    ミニバッチを取得するイテレータ\n",
    "\n",
    "    Parameters\n",
    "    ----------\n",
    "    X : 次の形のndarray, shape (n_samples, n_features)\n",
    "      訓練データ\n",
    "    y : 次の形のndarray, shape (n_samples, 1)\n",
    "      正解値\n",
    "    batch_size : int\n",
    "      バッチサイズ\n",
    "    seed : int\n",
    "      NumPyの乱数のシード\n",
    "    \"\"\"\n",
    "    def __init__(self, X, y, batch_size = 20, seed=0):\n",
    "        self.batch_size = batch_size\n",
    "        np.random.seed(seed)\n",
    "        shuffle_index = np.random.permutation(np.arange(X.shape[0]))\n",
    "        self._X = X[shuffle_index]\n",
    "        self._y = y[shuffle_index]\n",
    "        self._stop = np.ceil(X.shape[0]/self.batch_size).astype(np.int)\n",
    "\n",
    "    def __len__(self):\n",
    "        return self._stop\n",
    "\n",
    "    def __getitem__(self,item):\n",
    "        p0 = item*self.batch_size\n",
    "        p1 = item*self.batch_size + self.batch_size\n",
    "        return self._X[p0:p1], self._y[p0:p1]        \n",
    "\n",
    "    def __iter__(self):\n",
    "        self._counter = 0\n",
    "        return self\n",
    "\n",
    "    def __next__(self):\n",
    "        if self._counter >= self._stop:\n",
    "            raise StopIteration()\n",
    "        p0 = self._counter*self.batch_size\n",
    "        p1 = self._counter*self.batch_size + self.batch_size\n",
    "        self._counter += 1\n",
    "        return self._X[p0:p1], self._y[p0:p1]"
   ]
  },
  {
   "cell_type": "code",
   "execution_count": 1,
   "metadata": {
    "colab": {
     "base_uri": "https://localhost:8080/"
    },
    "id": "fZno-VJsKuwH",
    "outputId": "2cd9e365-3b47-4c59-c1e6-646eb26c4a61"
   },
   "outputs": [
    {
     "ename": "NameError",
     "evalue": "name 'GetMiniBatch' is not defined",
     "output_type": "error",
     "traceback": [
      "\u001b[1;31m---------------------------------------------------------------------------\u001b[0m",
      "\u001b[1;31mNameError\u001b[0m                                 Traceback (most recent call last)",
      "Input \u001b[1;32mIn [1]\u001b[0m, in \u001b[0;36m<cell line: 1>\u001b[1;34m()\u001b[0m\n\u001b[1;32m----> 1\u001b[0m get_mini_batch \u001b[38;5;241m=\u001b[39m \u001b[43mGetMiniBatch\u001b[49m(x_train, y_train, batch_size\u001b[38;5;241m=\u001b[39m\u001b[38;5;241m20\u001b[39m)\n\u001b[0;32m      3\u001b[0m \u001b[38;5;28mprint\u001b[39m(\u001b[38;5;28mlen\u001b[39m(get_mini_batch)) \u001b[38;5;66;03m# 2400\u001b[39;00m\n\u001b[0;32m      4\u001b[0m \u001b[38;5;28mprint\u001b[39m(get_mini_batch[\u001b[38;5;241m5\u001b[39m]) \u001b[38;5;66;03m# 5番目のミニバッチが取得できる\u001b[39;00m\n",
      "\u001b[1;31mNameError\u001b[0m: name 'GetMiniBatch' is not defined"
     ]
    }
   ],
   "source": [
    "get_mini_batch = GetMiniBatch(x_train, y_train, batch_size=20)\n",
    "\n",
    "print(len(get_mini_batch)) # 2400\n",
    "print(get_mini_batch[5]) # 5番目のミニバッチが取得できる\n",
    "for mini_x_train, mini_y_train in get_mini_batch:\n",
    "    # このfor文内でミニバッチが使える\n",
    "    pass"
   ]
  },
  {
   "cell_type": "code",
   "execution_count": null,
   "metadata": {
    "id": "hffcygrhLLNK"
   },
   "outputs": [],
   "source": [
    "class ScratchSimpleNeuralNetrowkClassifier():\n",
    "   \n",
    "\n",
    "    def __init__(self,epoch=50,n_features=784,n_nodes1=400,n_nodes2=200,n_output=10,sigma=0.01,n_batch=20,activate_function_key='tanh',lr=0.01, verbose = False):\n",
    "        self.n_epoch=epoch\n",
    "        self.n_features=n_features\n",
    "        self.n_nodes1=n_nodes1\n",
    "        self.n_nodes2=n_nodes2\n",
    "        self.n_output=n_output\n",
    "        self.sigma=sigma\n",
    "        self.n_batch=n_batch\n",
    "        self.activate_function_key=activate_function_key\n",
    "        self.lr=lr\n",
    "        self.verbose = verbose\n",
    "\n",
    "    \n",
    "    def initial_weight(self):\n",
    "        self.w1=self.sigma*np.random.randn(self.n_features,self.n_nodes1)\n",
    "        self.b1=np.zeros(self.n_nodes1)\n",
    "        self.w2=self.sigma*np.random.randn(self.n_nodes1,self.n_nodes2)\n",
    "        self.b2=np.zeros(self.n_nodes2)\n",
    "        self.w3=self.sigma*np.random.randn(self.n_nodes2,self.n_output)\n",
    "        self.b3=np.zeros(self.n_output)\n",
    "\n",
    "    def activation_function(self,x):\n",
    "        if self.activate_function_key=='sigmoid':\n",
    "            return 1/(1+np.exp(-x))\n",
    "        elif self.activate_function_key=='tanh':\n",
    "            return np.tanh(x)    \n",
    "    def softmax(self,x):\n",
    "         return np.exp(x-np.max(x))/np.sum(np.exp(x-np.max(x)),axis=1, keepdims=True)\n",
    "    def loss_function(self,y,yt):\n",
    "        delta=1e-7\n",
    "        return -np.mean(yt*np.log(y+delta))\n",
    "    def gradient_descent(self,x,y,yt):\n",
    "        delta_a3=(y-yt)/self.n_batch\n",
    "        delta_b3=np.sum(delta_a3,axis=0)\n",
    "        delta_w3=np.dot(self.z2.T,delta_a3)\n",
    "        delta_z2=np.dot(delta_a3,self.w3.T)\n",
    "        self.w3=self.lr*delta_w3\n",
    "        self.b3=self.lr*delta_b3\n",
    "        if self.activate_function_key=='sigmoid':\n",
    "           delta_a2=delta_z2*(1-self.activation_function(self.z2))*self.activation_function(self.z2)\n",
    "        elif self.activate_function_key=='tanh':\n",
    "             delta_a2=delta_z2*(1-np.tanh(self.z2)**2)\n",
    "        delta_b2=np.sum(delta_a2,axis=0)\n",
    "        delta_w2=np.dot(self.z1.T,delta_a2)\n",
    "        delta_z1=np.dot(delta_a2,self.w2.T)\n",
    "        self.w2-=self.lr*delta_w2\n",
    "        self.b2-=self.lr*delta_b2\n",
    "        if self.activate_function_key=='sigmoid':\n",
    "           delta_a1=delta_z1*(1-self.activation_function(self.z1))*self.activation_function(self.z1)\n",
    "        elif self.activate_function_key=='tanh':\n",
    "             delta_a1=delta_z1*(1-np.tanh(self.z1)**2)\n",
    "        delta_b1=sum(delta_a1,axis=0)\n",
    "        delta_w1=np.dot(x.T,delta_a1)\n",
    "        self.w1-=self.lr*delta_w1\n",
    "        self.b1-=self.lr*delta_b1\n",
    "        \n",
    "\n",
    "    def fit(self, x, y, x_val=False, y_val=False):\n",
    "        self.initial_weight()\n",
    "        self.log_loss=[]\n",
    "        self.log_loss_val=[]\n",
    "        self.log_acc=[]\n",
    "        self.log_acc_val=[]\n",
    "        for epoch in range (self.n_epoch):\n",
    "            get_mini_batch=GetMiniBatch(x,y,batch_size=self.n_batch)\n",
    "            self.loss=0\n",
    "            self.true_y=np.array([])\n",
    "            self.pred_y=np.array([])\n",
    "        for mini_x_train,mini_y_train,in get_mini_batch:\n",
    "            self.z1=self.activation_function(np.dot(mini_x_train,self.w1)+self.b1)\n",
    "            self.z2=self.activation_function(np.dot(self.z1,self.w2)+self.b2)\n",
    "            yhat=self.softmax(np.dot(self.z1,self.w2)+self.b2)\n",
    "            self.gradient_descent(mini_x_train,yhat,mini_y_train)\n",
    "            self.true_y=np.concatenate([self.true_y,np.argmax(mini_y_train,axis=1)])\n",
    "            self.pred_y=np.concatenate([self.pred_y,np.argmax(yhat,axis=1)])\n",
    "            self.loss+=self.loss_function(yhat,mini_y_train)\n",
    "        self.log_loss.append(self.loss/len(get_mini_batch))\n",
    "        acc=accuracy_score(self.true_y,self.pred_y)\n",
    "        self.log_acc.append(acc)\n",
    "        if (type(x_val)!=bool):\n",
    "           self.z1_val=self.activation_function(np.dot(x_val,self.w1)+self.b1)\n",
    "           self.z2_val=self.activation_function(np.dot(self.z1_val,self.w2)+self.b2)\n",
    "           yhat_val=self.softmax_val(np.dot(self.z2_val,self.w3)+self.b3)\n",
    "           self.loss_val=self.loss_function(yhat_val,y_val)\n",
    "           self.log_loss_val.append(self.loss.val)\n",
    "           acc_val=accuracy_score(np.argmax(y_val,axis=1),np.argmax(yhat_val,axis=1))\n",
    "           self.log_acc_val.append(acc_val)\n",
    "\n",
    "        if self.verbose:\n",
    "            #verboseをTrueにした際は学習過程などを出力する\n",
    "            print('epoch:{:>3} loss:{:>8,.3f} acc:{:>5,.3f}',format(epoch,self.loss/self.n_batch,acc))\n",
    "      \n",
    "\n",
    "    def predict(self, x):\n",
    "        self.pred_z1=self.activation_function(np.dot(x,self.w1)+self.b1)\n",
    "        self.pred_z2=self.activation_function(np.dot(self.pred_z1,self.w2)+self.b2)\n",
    "        return np.argmax(np.dot(self.pred_z2,self.w3)+self.b3,axis=1)\n",
    "       \n",
    "\n",
    "      "
   ]
  },
  {
   "cell_type": "code",
   "execution_count": null,
   "metadata": {
    "colab": {
     "base_uri": "https://localhost:8080/"
    },
    "id": "Nhgz859fYvcW",
    "outputId": "da269fa7-dfc8-4b98-ca80-3dc041dabd5c"
   },
   "outputs": [
    {
     "name": "stdout",
     "output_type": "stream",
     "text": [
      "w1 (784, 400)\n"
     ]
    }
   ],
   "source": [
    "import numpy as np\n",
    "n_features=784\n",
    "n_nodes1=400\n",
    "n_nodes2=200\n",
    "n_outputs=10\n",
    "sigma=0.01\n",
    "w1=sigma*np.random.randn(n_features,n_nodes1)\n",
    "print('w1',w1.shape)"
   ]
  },
  {
   "cell_type": "code",
   "execution_count": null,
   "metadata": {
    "colab": {
     "base_uri": "https://localhost:8080/"
    },
    "id": "rDCKU0vQfSr7",
    "outputId": "185a192c-3e8c-42e1-a174-f17fd7dbfcaf"
   },
   "outputs": [
    {
     "name": "stdout",
     "output_type": "stream",
     "text": [
      "w1 (784, 400)\n",
      "b1 (400,)\n",
      "w2 (400, 200)\n",
      "b2 (200,)\n",
      "w3 (200, 10)\n",
      "b3 (10,)\n"
     ]
    }
   ],
   "source": [
    "w1=sigma*np.random.randn(n_features,n_nodes1)\n",
    "b1=sigma*np.random.randn(n_nodes1)\n",
    "w2=sigma*np.random.randn(n_nodes1,n_nodes2)\n",
    "b2=sigma*np.random.randn(n_nodes2)\n",
    "w3=sigma*np.random.randn(n_nodes2,n_outputs)\n",
    "b3=sigma*np.random.randn(n_outputs)\n",
    "print('w1',w1.shape)\n",
    "print('b1',b1.shape)\n",
    "print('w2',w2.shape)\n",
    "print('b2',b2.shape)\n",
    "print('w3',w3.shape)\n",
    "print('b3',b3.shape)"
   ]
  },
  {
   "cell_type": "code",
   "execution_count": null,
   "metadata": {
    "id": "PX-wFaRofYeM"
   },
   "outputs": [],
   "source": [
    "x=x_train[0:20]"
   ]
  },
  {
   "cell_type": "code",
   "execution_count": null,
   "metadata": {
    "colab": {
     "base_uri": "https://localhost:8080/"
    },
    "id": "B3DYPfhMk5PN",
    "outputId": "e30978c3-62e7-4078-c233-e10327282933"
   },
   "outputs": [
    {
     "name": "stdout",
     "output_type": "stream",
     "text": [
      "z1.shape: (20, 400)\n",
      "[[-0.00258219  0.13044827  0.03607458 ... -0.02016919 -0.03153315\n",
      "  -0.04668789]\n",
      " [-0.01852437  0.06988484  0.02656873 ... -0.02492651  0.04428645\n",
      "   0.01562639]\n",
      " [ 0.1980895   0.25514992  0.06085261 ...  0.06886187 -0.07260721\n",
      "   0.07722739]\n",
      " ...\n",
      " [-0.01095391  0.11343303  0.06140305 ...  0.00196706 -0.01805703\n",
      "  -0.12643677]\n",
      " [-0.029333    0.09415774  0.00379065 ... -0.00531439  0.01625164\n",
      "  -0.00104318]\n",
      " [ 0.00749906  0.05401022  0.08321287 ...  0.00752869  0.01001492\n",
      "  -0.07318581]]\n"
     ]
    }
   ],
   "source": [
    "z1 = np.dot(x,w1)# + b1\n",
    "print('z1.shape:',z1.shape)\n",
    "print(z1)"
   ]
  },
  {
   "cell_type": "code",
   "execution_count": null,
   "metadata": {
    "colab": {
     "base_uri": "https://localhost:8080/"
    },
    "id": "RD-Qmp7ElIcS",
    "outputId": "b482e20f-a079-4701-ceba-8f27a3fd2da6"
   },
   "outputs": [
    {
     "name": "stdout",
     "output_type": "stream",
     "text": [
      "sig1.shape: (20, 400)\n",
      "[[0.49935445 0.5325659  0.50901767 ... 0.49495787 0.49211736 0.48833015]\n",
      " [0.49536904 0.5174641  0.50664179 ... 0.4937687  0.5110698  0.50390652]\n",
      " [0.54936107 0.56344366 0.51520846 ... 0.51720867 0.48185617 0.51929726]\n",
      " ...\n",
      " [0.49726155 0.52832789 0.51534594 ... 0.50049176 0.49548586 0.46843285]\n",
      " [0.49266728 0.52352206 0.50094766 ... 0.49867141 0.50406282 0.49973921]\n",
      " [0.50187476 0.51349927 0.52079122 ... 0.50188216 0.50250371 0.48171171]]\n"
     ]
    }
   ],
   "source": [
    "sig1 = 1/(1+np.exp(-z1))\n",
    "print('sig1.shape:',sig1.shape)\n",
    "print(sig1)"
   ]
  },
  {
   "cell_type": "code",
   "execution_count": null,
   "metadata": {
    "colab": {
     "base_uri": "https://localhost:8080/"
    },
    "id": "aJNPtWAgmG-O",
    "outputId": "84b1d44b-8ef5-4dbd-faf0-b6e1a2018a5a"
   },
   "outputs": [
    {
     "name": "stdout",
     "output_type": "stream",
     "text": [
      "z2.shape (20, 200)\n",
      "[[-0.06570852  0.07368384 -0.05497518 ... -0.0616947   0.03864852\n",
      "   0.03720554]\n",
      " [-0.06254546  0.07506537 -0.05506448 ... -0.06891588  0.03589891\n",
      "   0.03284738]\n",
      " [-0.06603312  0.07058879 -0.05309495 ... -0.07079386  0.03512294\n",
      "   0.03638953]\n",
      " ...\n",
      " [-0.05626955  0.07627856 -0.04927466 ... -0.06947392  0.0387972\n",
      "   0.03824626]\n",
      " [-0.0639787   0.07641486 -0.05191283 ... -0.06453824  0.03788727\n",
      "   0.03279269]\n",
      " [-0.06119872  0.07807944 -0.05736954 ... -0.07121794  0.03757022\n",
      "   0.03369292]]\n"
     ]
    }
   ],
   "source": [
    "z2=np.dot(sig1,w2)+b2\n",
    "print('z2.shape',z2.shape)\n",
    "print(z2)"
   ]
  },
  {
   "cell_type": "code",
   "execution_count": null,
   "metadata": {
    "colab": {
     "base_uri": "https://localhost:8080/"
    },
    "id": "Ppc5JRqJlxyX",
    "outputId": "76d3b383-d25a-4bd8-f433-1dde23097397"
   },
   "outputs": [
    {
     "name": "stdout",
     "output_type": "stream",
     "text": [
      "sig2.shape: (20, 200)\n",
      "[[0.48357878 0.51841263 0.48625967 ... 0.48458121 0.50966093 0.50930031]\n",
      " [0.48436873 0.51875754 0.48623736 ... 0.48277785 0.50897376 0.50821111]\n",
      " [0.48349772 0.51763987 0.48672938 ... 0.48230892 0.50877983 0.50909638]\n",
      " ...\n",
      " [0.48593632 0.5190604  0.48768383 ... 0.4826385  0.50969808 0.5095604 ]\n",
      " [0.48401078 0.51909442 0.48702471 ... 0.48387104 0.50947068 0.50819744]\n",
      " [0.48470509 0.51950995 0.48566155 ... 0.48220304 0.50939145 0.50842243]]\n"
     ]
    }
   ],
   "source": [
    "sig2 = 1/(1+np.exp(-z2))\n",
    "print('sig2.shape:',sig2.shape)\n",
    "print(sig2)"
   ]
  },
  {
   "cell_type": "code",
   "execution_count": null,
   "metadata": {
    "colab": {
     "base_uri": "https://localhost:8080/"
    },
    "id": "_Wn3Pi-cm76t",
    "outputId": "04fc9fa1-7eb0-4809-e993-3231c3766da3"
   },
   "outputs": [
    {
     "name": "stdout",
     "output_type": "stream",
     "text": [
      "z3.shape (20, 10)\n",
      "[[-0.03834024 -0.07057829 -0.02061837  0.06687463  0.15802824 -0.22309187\n",
      "   0.0059607  -0.02615374  0.0537074  -0.1322205 ]\n",
      " [-0.03837165 -0.07045042 -0.02070861  0.06673314  0.15787425 -0.22296348\n",
      "   0.00601453 -0.02621859  0.05380451 -0.13215121]\n",
      " [-0.0383159  -0.07045173 -0.02058949  0.06677404  0.15815284 -0.22282039\n",
      "   0.00614303 -0.0262251   0.05396329 -0.13209967]\n",
      " [-0.03815642 -0.07069351 -0.02067426  0.06659713  0.15809844 -0.22300515\n",
      "   0.00621832 -0.02619941  0.05397124 -0.13206087]\n",
      " [-0.0383443  -0.07055924 -0.02089263  0.06687735  0.15807987 -0.22284714\n",
      "   0.0059394  -0.02611454  0.05393804 -0.13209954]\n",
      " [-0.03837438 -0.07045438 -0.02082956  0.06676738  0.15827805 -0.22317769\n",
      "   0.00578552 -0.02618845  0.05390429 -0.13237781]\n",
      " [-0.03811621 -0.07044591 -0.02108368  0.06659578  0.15792971 -0.22294675\n",
      "   0.0057828  -0.02610462  0.05389353 -0.13223358]\n",
      " [-0.03836746 -0.0704265  -0.02088996  0.06684792  0.15810804 -0.22308379\n",
      "   0.00592773 -0.02618711  0.05386493 -0.13222019]\n",
      " [-0.03825401 -0.07033889 -0.02085731  0.0667933   0.15806379 -0.22301198\n",
      "   0.00577306 -0.02603466  0.05364566 -0.13216437]\n",
      " [-0.03835668 -0.07057633 -0.02073659  0.06675644  0.15820077 -0.22312808\n",
      "   0.0060357  -0.02590728  0.05372815 -0.13221099]\n",
      " [-0.03848129 -0.07047222 -0.02096561  0.06670226  0.15805994 -0.22278124\n",
      "   0.00588454 -0.02624714  0.05412045 -0.13219703]\n",
      " [-0.03834264 -0.07049472 -0.02063167  0.06681776  0.15822748 -0.22311993\n",
      "   0.00578002 -0.02622571  0.05391859 -0.13217092]\n",
      " [-0.0384777  -0.07043536 -0.02083456  0.06682572  0.15789252 -0.22299895\n",
      "   0.00586133 -0.02638259  0.05387145 -0.13214449]\n",
      " [-0.03832641 -0.07044748 -0.02087321  0.06656953  0.1582459  -0.22304667\n",
      "   0.00600607 -0.02639931  0.05393903 -0.13214253]\n",
      " [-0.03838885 -0.07055773 -0.02078966  0.06672605  0.15824196 -0.22323406\n",
      "   0.00597897 -0.02625054  0.05372246 -0.13223868]\n",
      " [-0.0381606  -0.07052253 -0.02075443  0.06670001  0.15810445 -0.22288259\n",
      "   0.00601352 -0.02599098  0.05376281 -0.13227921]\n",
      " [-0.0382975  -0.07053769 -0.02075286  0.06669863  0.15798238 -0.22316738\n",
      "   0.00593191 -0.02616534  0.05384368 -0.13220675]\n",
      " [-0.03832452 -0.07030719 -0.02086938  0.06687207  0.1581031  -0.22295859\n",
      "   0.00581939 -0.0260135   0.05386236 -0.13221718]\n",
      " [-0.03833566 -0.07055672 -0.02075496  0.06677876  0.15798458 -0.22295518\n",
      "   0.00592215 -0.02617193  0.05377467 -0.13218147]\n",
      " [-0.03812375 -0.07034187 -0.02080736  0.06652244  0.15816154 -0.22301043\n",
      "   0.0058956  -0.02615213  0.05381093 -0.13217329]]\n"
     ]
    }
   ],
   "source": [
    "z3=np.dot(sig2,w3)+b3\n",
    "print('z3.shape',z3.shape)\n",
    "print(z3)"
   ]
  },
  {
   "cell_type": "code",
   "execution_count": null,
   "metadata": {
    "colab": {
     "base_uri": "https://localhost:8080/"
    },
    "id": "fIt8_01snzAb",
    "outputId": "c6e769e9-d49f-4312-8740-a86d64bc2cc1"
   },
   "outputs": [
    {
     "name": "stdout",
     "output_type": "stream",
     "text": [
      "sfmax.shape (20, 10)\n",
      "[[0.09794552 0.0948383  0.09969676 0.1088125  0.11919727 0.08142316\n",
      "  0.10238214 0.09914643 0.10738913 0.08916879]\n",
      " [0.09794318 0.09485114 0.09968852 0.10879793 0.11917981 0.08143423\n",
      "  0.10238843 0.09914075 0.10740037 0.08917564]\n",
      " [0.09793878 0.09484147 0.09969036 0.10879142 0.11920102 0.08143768\n",
      "  0.10239127 0.09913012 0.10740661 0.08917126]\n",
      " [0.09795851 0.09482252 0.09968609 0.10877674 0.11919954 0.08142605\n",
      "  0.10240328 0.09913683 0.10741197 0.08917846]\n",
      " [0.09794142 0.09483653 0.09966567 0.10880869 0.11919893 0.08144002\n",
      "  0.1023761  0.09914658 0.10740985 0.08917621]\n",
      " [0.09794372 0.09485155 0.09967728 0.10880255 0.11922893 0.08141745\n",
      "  0.10236582 0.09914455 0.10741197 0.08915617]\n",
      " [0.09797105 0.09485433 0.09965404 0.10878615 0.11918989 0.08143796\n",
      "  0.10236768 0.09915494 0.10741306 0.08917089]\n",
      " [0.09794263 0.09485249 0.09966947 0.10880936 0.11920652 0.08142364\n",
      "  0.10237854 0.09914291 0.10740582 0.08916862]\n",
      " [0.09795394 0.09486099 0.09967293 0.10880363 0.11920148 0.08142965\n",
      "  0.10236291 0.09915822 0.10738248 0.08917378]\n",
      " [0.09794129 0.09483595 0.09968231 0.10879673 0.11921465 0.08141803\n",
      "  0.10238708 0.09916822 0.10738849 0.08916725]\n",
      " [0.09793157 0.09484823 0.09966202 0.1087936  0.11920088 0.08144834\n",
      "  0.10237421 0.09913704 0.10743335 0.08917076]\n",
      " [0.09794302 0.09484403 0.09969313 0.1088038  0.11921826 0.08141899\n",
      "  0.10236128 0.099137   0.10740933 0.08917115]\n",
      " [0.09793635 0.09485601 0.09967958 0.10881195 0.11918632 0.0814343\n",
      "  0.10237646 0.09912809 0.10741146 0.08917948]\n",
      " [0.09794717 0.094851   0.09967167 0.10877964 0.11922358 0.08142709\n",
      "  0.1023871  0.09912239 0.10741434 0.08917602]\n",
      " [0.09794368 0.09484308 0.09968267 0.10879959 0.11922631 0.08141401\n",
      "  0.10238707 0.0991398  0.10739396 0.08916983]\n",
      " [0.09795932 0.09483991 0.09967934 0.10878929 0.11920174 0.08143705\n",
      "  0.10238359 0.09915873 0.10739093 0.0891601 ]\n",
      " [0.09795209 0.09484446 0.09968579 0.108796   0.11919471 0.08141899\n",
      "  0.10238169 0.0991477  0.10740639 0.08917219]\n",
      " [0.09794332 0.0948604  0.09966795 0.10880808 0.11920165 0.08143091\n",
      "  0.10236377 0.09915656 0.10740168 0.08916569]\n",
      " [0.09794701 0.09484136 0.09968421 0.10880323 0.11919334 0.08143516\n",
      "  0.10237929 0.09914569 0.1073975  0.08917322]\n",
      " [0.09796498 0.09485903 0.09967615 0.10877225 0.11921103 0.08142834\n",
      "  0.10237365 0.09914482 0.10739834 0.08917141]]\n",
      "20.0\n"
     ]
    }
   ],
   "source": [
    "sfmax=np.zeros([len(x),10])\n",
    "for i in range(20):\n",
    "    sfmax[i]=np.exp(z3[i])/np.sum(np.exp(z3[i]),axis=0)\n",
    "print('sfmax.shape',sfmax.shape)\n",
    "print(sfmax) \n",
    "print(np.sum(sfmax))   "
   ]
  },
  {
   "cell_type": "code",
   "execution_count": null,
   "metadata": {
    "colab": {
     "base_uri": "https://localhost:8080/"
    },
    "id": "iGWcVlTrpXZL",
    "outputId": "289b1b8c-321d-40b5-c4b9-6612f72818d8"
   },
   "outputs": [
    {
     "name": "stdout",
     "output_type": "stream",
     "text": [
      "softmax.shape (10, 20)\n",
      "[[0.09794552 0.0948383  0.09969676 0.1088125  0.11919727 0.08142316\n",
      "  0.10238214 0.09914643 0.10738913 0.08916879]\n",
      " [0.09794318 0.09485114 0.09968852 0.10879793 0.11917981 0.08143423\n",
      "  0.10238843 0.09914075 0.10740037 0.08917564]\n",
      " [0.09793878 0.09484147 0.09969036 0.10879142 0.11920102 0.08143768\n",
      "  0.10239127 0.09913012 0.10740661 0.08917126]\n",
      " [0.09795851 0.09482252 0.09968609 0.10877674 0.11919954 0.08142605\n",
      "  0.10240328 0.09913683 0.10741197 0.08917846]\n",
      " [0.09794142 0.09483653 0.09966567 0.10880869 0.11919893 0.08144002\n",
      "  0.1023761  0.09914658 0.10740985 0.08917621]\n",
      " [0.09794372 0.09485155 0.09967728 0.10880255 0.11922893 0.08141745\n",
      "  0.10236582 0.09914455 0.10741197 0.08915617]\n",
      " [0.09797105 0.09485433 0.09965404 0.10878615 0.11918989 0.08143796\n",
      "  0.10236768 0.09915494 0.10741306 0.08917089]\n",
      " [0.09794263 0.09485249 0.09966947 0.10880936 0.11920652 0.08142364\n",
      "  0.10237854 0.09914291 0.10740582 0.08916862]\n",
      " [0.09795394 0.09486099 0.09967293 0.10880363 0.11920148 0.08142965\n",
      "  0.10236291 0.09915822 0.10738248 0.08917378]\n",
      " [0.09794129 0.09483595 0.09968231 0.10879673 0.11921465 0.08141803\n",
      "  0.10238708 0.09916822 0.10738849 0.08916725]\n",
      " [0.09793157 0.09484823 0.09966202 0.1087936  0.11920088 0.08144834\n",
      "  0.10237421 0.09913704 0.10743335 0.08917076]\n",
      " [0.09794302 0.09484403 0.09969313 0.1088038  0.11921826 0.08141899\n",
      "  0.10236128 0.099137   0.10740933 0.08917115]\n",
      " [0.09793635 0.09485601 0.09967958 0.10881195 0.11918632 0.0814343\n",
      "  0.10237646 0.09912809 0.10741146 0.08917948]\n",
      " [0.09794717 0.094851   0.09967167 0.10877964 0.11922358 0.08142709\n",
      "  0.1023871  0.09912239 0.10741434 0.08917602]\n",
      " [0.09794368 0.09484308 0.09968267 0.10879959 0.11922631 0.08141401\n",
      "  0.10238707 0.0991398  0.10739396 0.08916983]\n",
      " [0.09795932 0.09483991 0.09967934 0.10878929 0.11920174 0.08143705\n",
      "  0.10238359 0.09915873 0.10739093 0.0891601 ]\n",
      " [0.09795209 0.09484446 0.09968579 0.108796   0.11919471 0.08141899\n",
      "  0.10238169 0.0991477  0.10740639 0.08917219]\n",
      " [0.09794332 0.0948604  0.09966795 0.10880808 0.11920165 0.08143091\n",
      "  0.10236377 0.09915656 0.10740168 0.08916569]\n",
      " [0.09794701 0.09484136 0.09968421 0.10880323 0.11919334 0.08143516\n",
      "  0.10237929 0.09914569 0.1073975  0.08917322]\n",
      " [0.09796498 0.09485903 0.09967615 0.10877225 0.11921103 0.08142834\n",
      "  0.10237365 0.09914482 0.10739834 0.08917141]]\n",
      "20.0\n"
     ]
    }
   ],
   "source": [
    "softmax=np.exp(z3).T/np.sum(np.exp(z3),axis=1)\n",
    "print('softmax.shape',softmax.shape)\n",
    "print(softmax.T)\n",
    "print(np.sum(softmax))\n"
   ]
  },
  {
   "cell_type": "code",
   "execution_count": null,
   "metadata": {
    "colab": {
     "base_uri": "https://localhost:8080/"
    },
    "id": "BqOMso-9qetp",
    "outputId": "deb40101-f5b8-4c52-95f5-e0bda1f85260"
   },
   "outputs": [
    {
     "name": "stdout",
     "output_type": "stream",
     "text": [
      "softmax.shape (20, 10)\n",
      "[[0.09794552 0.0948383  0.09969676 0.1088125  0.11919727 0.08142316\n",
      "  0.10238214 0.09914643 0.10738913 0.08916879]\n",
      " [0.09794318 0.09485114 0.09968852 0.10879793 0.11917981 0.08143423\n",
      "  0.10238843 0.09914075 0.10740037 0.08917564]\n",
      " [0.09793878 0.09484147 0.09969036 0.10879142 0.11920102 0.08143768\n",
      "  0.10239127 0.09913012 0.10740661 0.08917126]\n",
      " [0.09795851 0.09482252 0.09968609 0.10877674 0.11919954 0.08142605\n",
      "  0.10240328 0.09913683 0.10741197 0.08917846]\n",
      " [0.09794142 0.09483653 0.09966567 0.10880869 0.11919893 0.08144002\n",
      "  0.1023761  0.09914658 0.10740985 0.08917621]\n",
      " [0.09794372 0.09485155 0.09967728 0.10880255 0.11922893 0.08141745\n",
      "  0.10236582 0.09914455 0.10741197 0.08915617]\n",
      " [0.09797105 0.09485433 0.09965404 0.10878615 0.11918989 0.08143796\n",
      "  0.10236768 0.09915494 0.10741306 0.08917089]\n",
      " [0.09794263 0.09485249 0.09966947 0.10880936 0.11920652 0.08142364\n",
      "  0.10237854 0.09914291 0.10740582 0.08916862]\n",
      " [0.09795394 0.09486099 0.09967293 0.10880363 0.11920148 0.08142965\n",
      "  0.10236291 0.09915822 0.10738248 0.08917378]\n",
      " [0.09794129 0.09483595 0.09968231 0.10879673 0.11921465 0.08141803\n",
      "  0.10238708 0.09916822 0.10738849 0.08916725]\n",
      " [0.09793157 0.09484823 0.09966202 0.1087936  0.11920088 0.08144834\n",
      "  0.10237421 0.09913704 0.10743335 0.08917076]\n",
      " [0.09794302 0.09484403 0.09969313 0.1088038  0.11921826 0.08141899\n",
      "  0.10236128 0.099137   0.10740933 0.08917115]\n",
      " [0.09793635 0.09485601 0.09967958 0.10881195 0.11918632 0.0814343\n",
      "  0.10237646 0.09912809 0.10741146 0.08917948]\n",
      " [0.09794717 0.094851   0.09967167 0.10877964 0.11922358 0.08142709\n",
      "  0.1023871  0.09912239 0.10741434 0.08917602]\n",
      " [0.09794368 0.09484308 0.09968267 0.10879959 0.11922631 0.08141401\n",
      "  0.10238707 0.0991398  0.10739396 0.08916983]\n",
      " [0.09795932 0.09483991 0.09967934 0.10878929 0.11920174 0.08143705\n",
      "  0.10238359 0.09915873 0.10739093 0.0891601 ]\n",
      " [0.09795209 0.09484446 0.09968579 0.108796   0.11919471 0.08141899\n",
      "  0.10238169 0.0991477  0.10740639 0.08917219]\n",
      " [0.09794332 0.0948604  0.09966795 0.10880808 0.11920165 0.08143091\n",
      "  0.10236377 0.09915656 0.10740168 0.08916569]\n",
      " [0.09794701 0.09484136 0.09968421 0.10880323 0.11919334 0.08143516\n",
      "  0.10237929 0.09914569 0.1073975  0.08917322]\n",
      " [0.09796498 0.09485903 0.09967615 0.10877225 0.11921103 0.08142834\n",
      "  0.10237365 0.09914482 0.10739834 0.08917141]]\n",
      "20.0\n"
     ]
    }
   ],
   "source": [
    "softmax=np.exp(z3)/np.sum(np.exp(z3),axis=1,keepdims=True)\n",
    "print('softmax.shape',softmax.shape)\n",
    "print(softmax)\n",
    "print(np.sum(softmax))\n"
   ]
  },
  {
   "cell_type": "code",
   "execution_count": null,
   "metadata": {
    "colab": {
     "base_uri": "https://localhost:8080/"
    },
    "id": "0oqZ3inysQou",
    "outputId": "59a4f290-550a-4a0c-a93f-61f1d9bc2f83"
   },
   "outputs": [
    {
     "data": {
      "text/plain": [
       "array([[-0.00258219,  0.12971334,  0.03605894, ..., -0.02016645,\n",
       "        -0.03152271, -0.04665399],\n",
       "       [-0.01852225,  0.06977129,  0.02656248, ..., -0.02492135,\n",
       "         0.04425752,  0.01562512],\n",
       "       [ 0.19553856,  0.24975353,  0.06077761, ...,  0.06875323,\n",
       "        -0.07247989,  0.07707423],\n",
       "       ...,\n",
       "       [-0.01095347,  0.11294901,  0.061326  , ...,  0.00196706,\n",
       "        -0.01805507, -0.1257673 ],\n",
       "       [-0.02932459,  0.09388047,  0.00379063, ..., -0.00531434,\n",
       "         0.01625021, -0.00104318],\n",
       "       [ 0.00749892,  0.05395776,  0.08302133, ...,  0.00752855,\n",
       "         0.01001459, -0.07305543]])"
      ]
     },
     "execution_count": 241,
     "metadata": {},
     "output_type": "execute_result"
    }
   ],
   "source": [
    "np.tanh(z1)"
   ]
  },
  {
   "cell_type": "code",
   "execution_count": null,
   "metadata": {
    "colab": {
     "base_uri": "https://localhost:8080/",
     "height": 169
    },
    "id": "mnZqU87ZsYjq",
    "outputId": "74409b06-a4d1-4181-a610-32c6ce716493"
   },
   "outputs": [
    {
     "ename": "NameError",
     "evalue": "ignored",
     "output_type": "error",
     "traceback": [
      "\u001b[0;31m---------------------------------------------------------------------------\u001b[0m",
      "\u001b[0;31mNameError\u001b[0m                                 Traceback (most recent call last)",
      "\u001b[0;32m<ipython-input-3-46c4bdc28080>\u001b[0m in \u001b[0;36m<module>\u001b[0;34m\u001b[0m\n\u001b[0;32m----> 1\u001b[0;31m \u001b[0;34m(\u001b[0m\u001b[0mnp\u001b[0m\u001b[0;34m.\u001b[0m\u001b[0mexp\u001b[0m\u001b[0;34m(\u001b[0m\u001b[0mz1\u001b[0m\u001b[0;34m)\u001b[0m\u001b[0;34m-\u001b[0m\u001b[0mnp\u001b[0m\u001b[0;34m.\u001b[0m\u001b[0mexp\u001b[0m\u001b[0;34m(\u001b[0m\u001b[0;34m-\u001b[0m\u001b[0mz1\u001b[0m\u001b[0;34m)\u001b[0m\u001b[0;34m)\u001b[0m\u001b[0;34m/\u001b[0m\u001b[0;34m(\u001b[0m\u001b[0mnp\u001b[0m\u001b[0;34m.\u001b[0m\u001b[0mexp\u001b[0m\u001b[0;34m(\u001b[0m\u001b[0mz1\u001b[0m\u001b[0;34m)\u001b[0m\u001b[0;34m+\u001b[0m\u001b[0mnp\u001b[0m\u001b[0;34m.\u001b[0m\u001b[0mexp\u001b[0m\u001b[0;34m(\u001b[0m\u001b[0;34m-\u001b[0m\u001b[0mz1\u001b[0m\u001b[0;34m)\u001b[0m\u001b[0;34m)\u001b[0m\u001b[0;34m\u001b[0m\u001b[0;34m\u001b[0m\u001b[0m\n\u001b[0m",
      "\u001b[0;31mNameError\u001b[0m: name 'z1' is not defined"
     ]
    }
   ],
   "source": [
    "(np.exp(z1)-np.exp(-z1))/(np.exp(z1)+np.exp(-z1))"
   ]
  },
  {
   "cell_type": "code",
   "execution_count": null,
   "metadata": {
    "colab": {
     "base_uri": "https://localhost:8080/"
    },
    "id": "feIIBSXZsZRh",
    "outputId": "f567773b-6d2b-4796-b8de-961c26472bbf"
   },
   "outputs": [
    {
     "name": "stdout",
     "output_type": "stream",
     "text": [
      "shape:\n",
      " (20, 10)\n",
      "[[0.         0.1177791  0.         0.         0.         0.\n",
      "  0.         0.         0.         0.        ]\n",
      " [0.         0.11777233 0.         0.         0.         0.\n",
      "  0.         0.         0.         0.        ]\n",
      " [0.         0.         0.         0.         0.         0.\n",
      "  0.11394769 0.         0.         0.        ]\n",
      " [0.         0.         0.         0.         0.         0.\n",
      "  0.11394183 0.         0.         0.        ]\n",
      " [0.         0.         0.         0.         0.         0.\n",
      "  0.         0.         0.         0.12085705]\n",
      " [0.11616811 0.         0.         0.         0.         0.\n",
      "  0.         0.         0.         0.        ]\n",
      " [0.         0.         0.         0.         0.         0.\n",
      "  0.         0.11555358 0.         0.        ]\n",
      " [0.         0.         0.         0.         0.         0.\n",
      "  0.         0.         0.         0.1208613 ]\n",
      " [0.         0.         0.         0.         0.         0.12540079\n",
      "  0.         0.         0.         0.        ]\n",
      " [0.         0.         0.         0.         0.         0.\n",
      "  0.         0.         0.11156511 0.        ]\n",
      " [0.11617432 0.         0.         0.         0.         0.\n",
      "  0.         0.         0.         0.        ]\n",
      " [0.         0.         0.         0.         0.         0.\n",
      "  0.         0.         0.11155541 0.        ]\n",
      " [0.         0.11776976 0.         0.         0.         0.\n",
      "  0.         0.         0.         0.        ]\n",
      " [0.         0.         0.11529369 0.         0.         0.\n",
      "  0.         0.         0.         0.        ]\n",
      " [0.         0.         0.         0.11091239 0.         0.\n",
      "  0.         0.         0.         0.        ]\n",
      " [0.11616015 0.         0.         0.         0.         0.\n",
      "  0.         0.         0.         0.        ]\n",
      " [0.11616384 0.         0.         0.         0.         0.\n",
      "  0.         0.         0.         0.        ]\n",
      " [0.         0.         0.         0.         0.         0.12540002\n",
      "  0.         0.         0.         0.        ]\n",
      " [0.         0.11777749 0.         0.         0.         0.\n",
      "  0.         0.         0.         0.        ]\n",
      " [0.         0.         0.11529144 0.         0.         0.\n",
      "  0.         0.         0.         0.        ]]\n"
     ]
    }
   ],
   "source": [
    "y=y_train_one_hot[0:20]\n",
    "loss=-y*np.log(sfmax)/len(y)\n",
    "print('shape:\\n',loss.shape)\n",
    "print(loss)"
   ]
  },
  {
   "cell_type": "code",
   "execution_count": null,
   "metadata": {
    "colab": {
     "base_uri": "https://localhost:8080/"
    },
    "id": "lxKfnkREGP7O",
    "outputId": "8eeb108c-d0e3-4d5c-bbda-9203b9952541"
   },
   "outputs": [
    {
     "name": "stdout",
     "output_type": "stream",
     "text": [
      "(20, 10)\n",
      "(10,)\n",
      "(200, 10)\n",
      "(20, 200)\n"
     ]
    }
   ],
   "source": [
    "delta_a3=sfmax-y\n",
    "delta_b3=np.sum(delta_a3,axis=0)\n",
    "delta_w3=np.dot(z2.T,delta_a3)\n",
    "delta_z2=np.dot(delta_a3,w3.T)\n",
    "\n",
    "print(delta_a3.shape)\n",
    "print(delta_b3.shape)\n",
    "print(delta_w3.shape)\n",
    "print(delta_z2.shape)"
   ]
  },
  {
   "cell_type": "code",
   "execution_count": null,
   "metadata": {
    "colab": {
     "base_uri": "https://localhost:8080/"
    },
    "id": "a1s-w784Ic_-",
    "outputId": "4e0d947a-5281-4bba-d176-a9f0192e7eaf"
   },
   "outputs": [
    {
     "name": "stdout",
     "output_type": "stream",
     "text": [
      "(20, 200)\n",
      "(200,)\n",
      "(400, 200)\n",
      "(20, 400)\n"
     ]
    }
   ],
   "source": [
    "delta_a2=delta_z2*(-np.tanh(z2)**2)\n",
    "delta_b2=np.sum(delta_a2,axis=0)\n",
    "delta_w2=np.dot(z1.T,delta_a2)\n",
    "delta_z1=np.dot(delta_a2,w2.T)\n",
    "\n",
    "print(delta_a2.shape)\n",
    "print(delta_b2.shape)\n",
    "print(delta_w2.shape)\n",
    "print(delta_z1.shape)"
   ]
  },
  {
   "cell_type": "code",
   "execution_count": null,
   "metadata": {
    "colab": {
     "base_uri": "https://localhost:8080/"
    },
    "id": "auq1YbgoJ2xF",
    "outputId": "ffc32a97-5218-4b32-df9c-06df4386fc0e"
   },
   "outputs": [
    {
     "name": "stdout",
     "output_type": "stream",
     "text": [
      "(20, 400)\n",
      "(400,)\n",
      "(784, 400)\n"
     ]
    }
   ],
   "source": [
    "delta_a1=delta_z1*(1-np.tanh(z1)**2)\n",
    "delta_b1=np.sum(delta_a1,axis=0)\n",
    "delta_w1=np.dot(x.T,delta_a1)\n",
    "\n",
    "print(delta_a1.shape)\n",
    "print(delta_b1.shape)\n",
    "print(delta_w1.shape)"
   ]
  },
  {
   "cell_type": "code",
   "execution_count": null,
   "metadata": {
    "colab": {
     "base_uri": "https://localhost:8080/",
     "height": 456
    },
    "id": "5WCOHBhCLADc",
    "outputId": "4321bded-7af8-4984-fc75-1fbfab80e1dc"
   },
   "outputs": [
    {
     "name": "stderr",
     "output_type": "stream",
     "text": [
      "<ipython-input-227-b95c4ffc9059>:22: DeprecationWarning: `np.int` is a deprecated alias for the builtin `int`. To silence this warning, use `int` by itself. Doing this will not modify any behavior and is safe. When replacing `np.int`, you may wish to use e.g. `np.int64` or `np.int32` to specify the precision. If you wish to review your current use, check the release note link for additional information.\n",
      "Deprecated in NumPy 1.20; for more details and guidance: https://numpy.org/devdocs/release/1.20.0-notes.html#deprecations\n",
      "  self._stop = np.ceil(X.shape[0]/self.batch_size).astype(np.int)\n"
     ]
    },
    {
     "ename": "ValueError",
     "evalue": "ignored",
     "output_type": "error",
     "traceback": [
      "\u001b[0;31m---------------------------------------------------------------------------\u001b[0m",
      "\u001b[0;31mValueError\u001b[0m                                Traceback (most recent call last)",
      "\u001b[0;32m<ipython-input-247-6dd51626f641>\u001b[0m in \u001b[0;36m<module>\u001b[0;34m\u001b[0m\n\u001b[1;32m      1\u001b[0m \u001b[0mclf\u001b[0m\u001b[0;34m=\u001b[0m\u001b[0mScratchSimpleNeuralNetrowkClassifier\u001b[0m\u001b[0;34m(\u001b[0m\u001b[0mepoch\u001b[0m\u001b[0;34m=\u001b[0m\u001b[0;36m30\u001b[0m\u001b[0;34m,\u001b[0m\u001b[0mn_features\u001b[0m\u001b[0;34m=\u001b[0m\u001b[0;36m784\u001b[0m\u001b[0;34m,\u001b[0m\u001b[0mn_nodes1\u001b[0m\u001b[0;34m=\u001b[0m\u001b[0;36m400\u001b[0m\u001b[0;34m,\u001b[0m\u001b[0mn_nodes2\u001b[0m\u001b[0;34m=\u001b[0m\u001b[0;36m200\u001b[0m\u001b[0;34m,\u001b[0m\u001b[0mn_output\u001b[0m\u001b[0;34m=\u001b[0m\u001b[0;36m10\u001b[0m\u001b[0;34m,\u001b[0m\u001b[0msigma\u001b[0m\u001b[0;34m=\u001b[0m\u001b[0;36m0.01\u001b[0m\u001b[0;34m,\u001b[0m\u001b[0mn_batch\u001b[0m\u001b[0;34m=\u001b[0m\u001b[0;36m100\u001b[0m\u001b[0;34m,\u001b[0m\u001b[0mactivate_function_key\u001b[0m\u001b[0;34m=\u001b[0m\u001b[0;34m'tanh'\u001b[0m\u001b[0;34m,\u001b[0m\u001b[0mlr\u001b[0m\u001b[0;34m=\u001b[0m\u001b[0;36m0.01\u001b[0m\u001b[0;34m,\u001b[0m \u001b[0mverbose\u001b[0m \u001b[0;34m=\u001b[0m \u001b[0;32mTrue\u001b[0m\u001b[0;34m)\u001b[0m\u001b[0;34m\u001b[0m\u001b[0;34m\u001b[0m\u001b[0m\n\u001b[0;32m----> 2\u001b[0;31m \u001b[0mclf\u001b[0m\u001b[0;34m.\u001b[0m\u001b[0mfit\u001b[0m\u001b[0;34m(\u001b[0m\u001b[0mx_train\u001b[0m\u001b[0;34m,\u001b[0m\u001b[0my_train_one_hot\u001b[0m\u001b[0;34m,\u001b[0m\u001b[0mx_val\u001b[0m\u001b[0;34m,\u001b[0m\u001b[0my_val_one_hot\u001b[0m\u001b[0;34m)\u001b[0m\u001b[0;34m\u001b[0m\u001b[0;34m\u001b[0m\u001b[0m\n\u001b[0m\u001b[1;32m      3\u001b[0m \u001b[0my_pred\u001b[0m\u001b[0;34m=\u001b[0m\u001b[0mclf\u001b[0m\u001b[0;34m.\u001b[0m\u001b[0mpredict\u001b[0m\u001b[0;34m(\u001b[0m\u001b[0mx_val\u001b[0m\u001b[0;34m)\u001b[0m\u001b[0;34m\u001b[0m\u001b[0;34m\u001b[0m\u001b[0m\n",
      "\u001b[0;32m<ipython-input-229-186a21f2734c>\u001b[0m in \u001b[0;36mfit\u001b[0;34m(self, x, y, x_val, y_val)\u001b[0m\n\u001b[1;32m     74\u001b[0m             \u001b[0mself\u001b[0m\u001b[0;34m.\u001b[0m\u001b[0mz2\u001b[0m\u001b[0;34m=\u001b[0m\u001b[0mself\u001b[0m\u001b[0;34m.\u001b[0m\u001b[0mactivation_function\u001b[0m\u001b[0;34m(\u001b[0m\u001b[0mnp\u001b[0m\u001b[0;34m.\u001b[0m\u001b[0mdot\u001b[0m\u001b[0;34m(\u001b[0m\u001b[0mself\u001b[0m\u001b[0;34m.\u001b[0m\u001b[0mz1\u001b[0m\u001b[0;34m,\u001b[0m\u001b[0mself\u001b[0m\u001b[0;34m.\u001b[0m\u001b[0mw2\u001b[0m\u001b[0;34m)\u001b[0m\u001b[0;34m+\u001b[0m\u001b[0mself\u001b[0m\u001b[0;34m.\u001b[0m\u001b[0mb2\u001b[0m\u001b[0;34m)\u001b[0m\u001b[0;34m\u001b[0m\u001b[0;34m\u001b[0m\u001b[0m\n\u001b[1;32m     75\u001b[0m             \u001b[0myhat\u001b[0m\u001b[0;34m=\u001b[0m\u001b[0mself\u001b[0m\u001b[0;34m.\u001b[0m\u001b[0msoftmax\u001b[0m\u001b[0;34m(\u001b[0m\u001b[0mnp\u001b[0m\u001b[0;34m.\u001b[0m\u001b[0mdot\u001b[0m\u001b[0;34m(\u001b[0m\u001b[0mself\u001b[0m\u001b[0;34m.\u001b[0m\u001b[0mz1\u001b[0m\u001b[0;34m,\u001b[0m\u001b[0mself\u001b[0m\u001b[0;34m.\u001b[0m\u001b[0mw2\u001b[0m\u001b[0;34m)\u001b[0m\u001b[0;34m+\u001b[0m\u001b[0mself\u001b[0m\u001b[0;34m.\u001b[0m\u001b[0mb2\u001b[0m\u001b[0;34m)\u001b[0m\u001b[0;34m\u001b[0m\u001b[0;34m\u001b[0m\u001b[0m\n\u001b[0;32m---> 76\u001b[0;31m             \u001b[0mself\u001b[0m\u001b[0;34m.\u001b[0m\u001b[0mgradient_descent\u001b[0m\u001b[0;34m(\u001b[0m\u001b[0mmini_x_train\u001b[0m\u001b[0;34m,\u001b[0m\u001b[0myhat\u001b[0m\u001b[0;34m,\u001b[0m\u001b[0mmini_y_train\u001b[0m\u001b[0;34m)\u001b[0m\u001b[0;34m\u001b[0m\u001b[0;34m\u001b[0m\u001b[0m\n\u001b[0m\u001b[1;32m     77\u001b[0m             \u001b[0mself\u001b[0m\u001b[0;34m.\u001b[0m\u001b[0mtrue_y\u001b[0m\u001b[0;34m=\u001b[0m\u001b[0mnp\u001b[0m\u001b[0;34m.\u001b[0m\u001b[0mconcatenate\u001b[0m\u001b[0;34m(\u001b[0m\u001b[0;34m[\u001b[0m\u001b[0mself\u001b[0m\u001b[0;34m.\u001b[0m\u001b[0mtrue_y\u001b[0m\u001b[0;34m,\u001b[0m\u001b[0mnp\u001b[0m\u001b[0;34m.\u001b[0m\u001b[0margmax\u001b[0m\u001b[0;34m(\u001b[0m\u001b[0mmini_y_train\u001b[0m\u001b[0;34m,\u001b[0m\u001b[0maxis\u001b[0m\u001b[0;34m=\u001b[0m\u001b[0;36m1\u001b[0m\u001b[0;34m)\u001b[0m\u001b[0;34m]\u001b[0m\u001b[0;34m)\u001b[0m\u001b[0;34m\u001b[0m\u001b[0;34m\u001b[0m\u001b[0m\n\u001b[1;32m     78\u001b[0m             \u001b[0mself\u001b[0m\u001b[0;34m.\u001b[0m\u001b[0mpred_y\u001b[0m\u001b[0;34m=\u001b[0m\u001b[0mnp\u001b[0m\u001b[0;34m.\u001b[0m\u001b[0mconcatenate\u001b[0m\u001b[0;34m(\u001b[0m\u001b[0;34m[\u001b[0m\u001b[0mself\u001b[0m\u001b[0;34m.\u001b[0m\u001b[0mpred_y\u001b[0m\u001b[0;34m,\u001b[0m\u001b[0mnp\u001b[0m\u001b[0;34m.\u001b[0m\u001b[0margmax\u001b[0m\u001b[0;34m(\u001b[0m\u001b[0myhat\u001b[0m\u001b[0;34m,\u001b[0m\u001b[0maxis\u001b[0m\u001b[0;34m=\u001b[0m\u001b[0;36m1\u001b[0m\u001b[0;34m)\u001b[0m\u001b[0;34m]\u001b[0m\u001b[0;34m)\u001b[0m\u001b[0;34m\u001b[0m\u001b[0;34m\u001b[0m\u001b[0m\n",
      "\u001b[0;32m<ipython-input-229-186a21f2734c>\u001b[0m in \u001b[0;36mgradient_descent\u001b[0;34m(self, x, y, yt)\u001b[0m\n\u001b[1;32m     34\u001b[0m         \u001b[0;32mreturn\u001b[0m \u001b[0;34m-\u001b[0m\u001b[0mnp\u001b[0m\u001b[0;34m.\u001b[0m\u001b[0mmean\u001b[0m\u001b[0;34m(\u001b[0m\u001b[0myt\u001b[0m\u001b[0;34m*\u001b[0m\u001b[0mnp\u001b[0m\u001b[0;34m.\u001b[0m\u001b[0mlog\u001b[0m\u001b[0;34m(\u001b[0m\u001b[0my\u001b[0m\u001b[0;34m+\u001b[0m\u001b[0mdelta\u001b[0m\u001b[0;34m)\u001b[0m\u001b[0;34m)\u001b[0m\u001b[0;34m\u001b[0m\u001b[0;34m\u001b[0m\u001b[0m\n\u001b[1;32m     35\u001b[0m     \u001b[0;32mdef\u001b[0m \u001b[0mgradient_descent\u001b[0m\u001b[0;34m(\u001b[0m\u001b[0mself\u001b[0m\u001b[0;34m,\u001b[0m\u001b[0mx\u001b[0m\u001b[0;34m,\u001b[0m\u001b[0my\u001b[0m\u001b[0;34m,\u001b[0m\u001b[0myt\u001b[0m\u001b[0;34m)\u001b[0m\u001b[0;34m:\u001b[0m\u001b[0;34m\u001b[0m\u001b[0;34m\u001b[0m\u001b[0m\n\u001b[0;32m---> 36\u001b[0;31m         \u001b[0mdelta_a3\u001b[0m\u001b[0;34m=\u001b[0m\u001b[0;34m(\u001b[0m\u001b[0my\u001b[0m\u001b[0;34m-\u001b[0m\u001b[0myt\u001b[0m\u001b[0;34m)\u001b[0m\u001b[0;34m/\u001b[0m\u001b[0mself\u001b[0m\u001b[0;34m.\u001b[0m\u001b[0mn_batch\u001b[0m\u001b[0;34m\u001b[0m\u001b[0;34m\u001b[0m\u001b[0m\n\u001b[0m\u001b[1;32m     37\u001b[0m         \u001b[0mdelta_b3\u001b[0m\u001b[0;34m=\u001b[0m\u001b[0mnp\u001b[0m\u001b[0;34m.\u001b[0m\u001b[0msum\u001b[0m\u001b[0;34m(\u001b[0m\u001b[0mdelta_a3\u001b[0m\u001b[0;34m,\u001b[0m\u001b[0maxis\u001b[0m\u001b[0;34m=\u001b[0m\u001b[0;36m0\u001b[0m\u001b[0;34m)\u001b[0m\u001b[0;34m\u001b[0m\u001b[0;34m\u001b[0m\u001b[0m\n\u001b[1;32m     38\u001b[0m         \u001b[0mdelta_w3\u001b[0m\u001b[0;34m=\u001b[0m\u001b[0mnp\u001b[0m\u001b[0;34m.\u001b[0m\u001b[0mdot\u001b[0m\u001b[0;34m(\u001b[0m\u001b[0mself\u001b[0m\u001b[0;34m.\u001b[0m\u001b[0mz2\u001b[0m\u001b[0;34m.\u001b[0m\u001b[0mT\u001b[0m\u001b[0;34m,\u001b[0m\u001b[0mdelta_a3\u001b[0m\u001b[0;34m)\u001b[0m\u001b[0;34m\u001b[0m\u001b[0;34m\u001b[0m\u001b[0m\n",
      "\u001b[0;31mValueError\u001b[0m: operands could not be broadcast together with shapes (100,200) (100,10) "
     ]
    }
   ],
   "source": [
    "clf=ScratchSimpleNeuralNetrowkClassifier(epoch=30,n_features=784,n_nodes1=400,n_nodes2=200,n_output=10,sigma=0.01,n_batch=100,activate_function_key='tanh',lr=0.01, verbose = True)\n",
    "clf.fit(x_train,y_train_one_hot,x_val,y_val_one_hot)\n",
    "y_pred=clf.predict(x_val)"
   ]
  },
  {
   "cell_type": "code",
   "execution_count": null,
   "metadata": {
    "id": "OYx0FWIdMhGB"
   },
   "outputs": [],
   "source": [
    "print(y_pred)"
   ]
  },
  {
   "cell_type": "code",
   "execution_count": null,
   "metadata": {
    "id": "-OGrTZedM0GY"
   },
   "outputs": [],
   "source": [
    "accuracy=accuracy_score(y_val,y_pred)\n",
    "print('accuracy:{:.3f}'.format(accuracy))"
   ]
  },
  {
   "cell_type": "code",
   "execution_count": null,
   "metadata": {
    "id": "89xEM1XdOOsp"
   },
   "outputs": [],
   "source": [
    "fig=plt.subplots(figsize=(12,8))\n",
    "plt.rcParams[\"font.size\"]=20\n",
    "plt.plot(clf.log_loss,'rs--')\n",
    "plt.plot(clf.log_loss_val,'bo--');"
   ]
  },
  {
   "cell_type": "code",
   "execution_count": null,
   "metadata": {
    "id": "DHG8cocqPCJm"
   },
   "outputs": [],
   "source": [
    "fig=plt.subplots(figsize=(12,8))\n",
    "plt.rcParams[\"font.size\"]=20\n",
    "plt.plot(clf.log_acc,'rs--')\n",
    "plt.plot(clf.log_acc_val,'bo--');"
   ]
  },
  {
   "cell_type": "code",
   "execution_count": null,
   "metadata": {
    "id": "3Qk4R6HQQOb1"
   },
   "outputs": [],
   "source": [
    "import numpy as np\n",
    "import matplotlib.pyplot as plt\n",
    "\n",
    "num=5\n",
    "print('Estimation Reseult/correct results')\n",
    "\n",
    "true_false=y_pred==y_val\n",
    "\n"
   ]
  }
 ],
 "metadata": {
  "colab": {
   "provenance": [],
   "toc_visible": true
  },
  "kernelspec": {
   "display_name": "Python 3 (ipykernel)",
   "language": "python",
   "name": "python3"
  },
  "language_info": {
   "codemirror_mode": {
    "name": "ipython",
    "version": 3
   },
   "file_extension": ".py",
   "mimetype": "text/x-python",
   "name": "python",
   "nbconvert_exporter": "python",
   "pygments_lexer": "ipython3",
   "version": "3.9.12"
  }
 },
 "nbformat": 4,
 "nbformat_minor": 1
}
